{
  "nbformat": 4,
  "nbformat_minor": 0,
  "metadata": {
    "colab": {
      "provenance": []
    },
    "kernelspec": {
      "name": "python3",
      "display_name": "Python 3"
    },
    "language_info": {
      "name": "python"
    }
  },
  "cells": [
    {
      "cell_type": "code",
      "execution_count": 7,
      "metadata": {
        "id": "Lwlqgph1wwrV"
      },
      "outputs": [],
      "source": [
        "import numpy as np\n",
        "import matplotlib.pyplot as plt"
      ]
    },
    {
      "cell_type": "code",
      "source": [
        "def step_function(x):\n",
        "    return 1 if x >= 0 else 0"
      ],
      "metadata": {
        "id": "2tEACE9MxIY6"
      },
      "execution_count": 2,
      "outputs": []
    },
    {
      "cell_type": "code",
      "source": [
        "# Perceptron Training Function\n",
        "def train_perceptron(X, y, learning_rate=0.1, epochs=10):\n",
        "    num_features = X.shape[1]  # Number of input features (columns)\n",
        "    weights = np.zeros(num_features + 1)  # Initialize weights (including bias) with 0\n",
        "    print(\"Initial Weights:\", weights)\n",
        "\n",
        "    # Training Loop\n",
        "    for epoch in range(epochs):\n",
        "        total_error = 0  # Track errors in this epoch\n",
        "        for i in range(len(X)):\n",
        "            x_with_bias = np.insert(X[i], 0, 1)  # Add bias term (1 at index 0)\n",
        "            weighted_sum = np.dot(weights, x_with_bias)  # Compute weighted sum\n",
        "            y_pred = step_function(weighted_sum)  # Apply Step Activation Function\n",
        "            error = y[i] - y_pred  # Compute error\n",
        "            total_error += abs(error)  # Accumulate total error\n",
        "\n",
        "            # Update Weights: w = w + η(y_true - y_pred) * x\n",
        "            weights += learning_rate * error * x_with_bias\n",
        "\n",
        "        print(f\"Epoch {epoch+1}: Weights = {weights}, Total Error = {total_error}\")\n",
        "\n",
        "        if total_error == 0:\n",
        "            break  # Stop early if no errors\n",
        "\n",
        "    return weights  # Return trained weights"
      ],
      "metadata": {
        "id": "5GhFfhOLxWcr"
      },
      "execution_count": 3,
      "outputs": []
    },
    {
      "cell_type": "code",
      "source": [
        "# Prediction Function\n",
        "def predict(X, weights):\n",
        "    predictions = []\n",
        "    for i in range(len(X)):\n",
        "        x_with_bias = np.insert(X[i], 0, 1)  # Add bias term\n",
        "        weighted_sum = np.dot(weights, x_with_bias)  # Compute weighted sum\n",
        "        y_pred = step_function(weighted_sum)  # Apply Step Activation Function\n",
        "        predictions.append(y_pred)\n",
        "    return predictions"
      ],
      "metadata": {
        "id": "mHUk-4yKxbD7"
      },
      "execution_count": 4,
      "outputs": []
    },
    {
      "cell_type": "code",
      "source": [
        "# OR Gate Dataset\n",
        "X = np.array([[0, 0], [0, 1], [1, 0], [1, 1]])  # Input Features\n",
        "y = np.array([0, 1, 1, 1])  # Expected Output"
      ],
      "metadata": {
        "id": "LA91vFPYxeQk"
      },
      "execution_count": 5,
      "outputs": []
    },
    {
      "cell_type": "code",
      "source": [
        "weights = train_perceptron(X, y)\n",
        "\n",
        "# Test Perceptron\n",
        "predictions = predict(X, weights)\n",
        "print(\"\\nFinal Predictions:\")\n",
        "for i in range(len(X)):\n",
        "    print(f\"Input: {X[i]}, Predicted: {predictions[i]}, Actual: {y[i]}\")"
      ],
      "metadata": {
        "colab": {
          "base_uri": "https://localhost:8080/"
        },
        "id": "atNvjLSpxhv3",
        "outputId": "fcf856d8-3c7e-4d5d-f3d5-562e5989aa26"
      },
      "execution_count": 6,
      "outputs": [
        {
          "output_type": "stream",
          "name": "stdout",
          "text": [
            "Initial Weights: [0. 0. 0.]\n",
            "Epoch 1: Weights = [0.  0.  0.1], Total Error = 2\n",
            "Epoch 2: Weights = [0.  0.1 0.1], Total Error = 2\n",
            "Epoch 3: Weights = [-0.1  0.1  0.1], Total Error = 1\n",
            "Epoch 4: Weights = [-0.1  0.1  0.1], Total Error = 0\n",
            "\n",
            "Final Predictions:\n",
            "Input: [0 0], Predicted: 0, Actual: 0\n",
            "Input: [0 1], Predicted: 1, Actual: 1\n",
            "Input: [1 0], Predicted: 1, Actual: 1\n",
            "Input: [1 1], Predicted: 1, Actual: 1\n"
          ]
        }
      ]
    },
    {
      "cell_type": "code",
      "source": [],
      "metadata": {
        "id": "ZTKMV0RexlHY"
      },
      "execution_count": null,
      "outputs": []
    }
  ]
}